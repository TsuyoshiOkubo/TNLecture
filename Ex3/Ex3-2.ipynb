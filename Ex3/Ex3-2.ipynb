{
 "cells": [
  {
   "cell_type": "markdown",
   "metadata": {},
   "source": [
    "# Sample code for exercise 3-2\n",
    "2017 Aug. Tsuyoshi Okubo  \n",
    "2018 Dec. modified by TO\n",
    "2020 Dec. modified by TO\n",
    "\n",
    "In this code, you can perform iTEBD simulation of the ground state of spin model on 1d chain.  \n",
    "$$\\mathcal{H} = \\sum_{i} J_z S_{i,z}S_{i+1,z} + J_{xy} (S_{i,x}S_{i+1,x} + S_{i,y}S_{i+1,y}) - h_x \\sum_i S_{i,x} + D\\sum_i S_{i,z}^2$$\n",
    "\n",
    "This Hamiltonian can represent several situations. For example, when we set parameters,\n",
    "* $J_z = -1$, $J_{xy} = 0$, $h_x \\neq 0$, and $m = 2$ \n",
    "\n",
    "It represents the transverse field Ising chain.\n",
    "If you set\n",
    "* $J_z = J_{xy} = 1$, $h_x = 0$ \n",
    "\n",
    "It represents the $S=(m-1)/2$ Heisenberg model.\n",
    "\n",
    "Because we consider an infinitely long chain, the boundary condition is expected to be irrelevant.\n",
    "\n",
    "\n",
    "Note that, the accuracy of the calculation depends on chi_max, tau, and iteration steps.\n",
    "tau is gradually decreases from tau_max to tau_min\n",
    "\n",
    "\n",
    "You can change   \n",
    "\n",
    "- (N: # of sites. In this case, our system is infinite)\n",
    "- m: size of spin  (2S = 2m + 1)  \n",
    "- Jz: amplitude of SzSz interaction  \n",
    "- Jxy: amplitude of SxSx + SySy interaction  \n",
    "- hx : amplitude of external field alogn x direction  \n",
    "- D : Single ion anisotropy  \n",
    "- (periodic: In this exercize, we only consider open boundary)\n",
    "- chi_max : maximum bond dimension of MPS\n",
    "- tau_max : maximum value of tau\n",
    "- tau_min : minimum value of tau\n",
    "- T_step : Total ITE steps\n",
    "- output_dyn_num : output data step"
   ]
  },
  {
   "cell_type": "code",
   "execution_count": 1,
   "metadata": {},
   "outputs": [],
   "source": [
    "import numpy as np\n",
    "import scipy.linalg as linalg\n",
    "import TEBD\n",
    "import iTEBD\n",
    "from matplotlib import pyplot"
   ]
  },
  {
   "cell_type": "code",
   "execution_count": 2,
   "metadata": {},
   "outputs": [],
   "source": [
    "m = 3         ## m = 2S + 1, e.g. m=3 for S=1 \n",
    "Jz = 1.0      ## Jz for SzSz interaction\n",
    "Jxy = 1.0     ## Jxy for SxSx + SySy interaction\n",
    "hx = 0.0      ## external field along x direction\n",
    "D = 0.0       ## single ion anisotropy\n",
    "\n",
    "chi_max = 20  ## maxmum bond dimension at truncation\n",
    "\n",
    "tau_max = 0.1     ## start imaginary time tau\n",
    "tau_min = 0.001   ## final imaginary time tau\n",
    "T_step=2000       ## ITE steps\n",
    "output_dyn_num = 100 ## output steps"
   ]
  },
  {
   "cell_type": "code",
   "execution_count": 3,
   "metadata": {},
   "outputs": [
    {
     "name": "stdout",
     "output_type": "stream",
     "text": [
      "2S = m - 1, infinite spin chain\n",
      "m = 3\n",
      "Hamiltonian parameters:\n",
      "Jz = 1.0\n",
      "Jxy = 1.0\n",
      "hx = 0.0\n",
      "D = 0.0\n",
      "chi_max = 20\n",
      "tau_max = 0.1\n",
      "tau_min = 0.001\n",
      "T_step = 2000\n",
      "output_dyn_num = 100\n"
     ]
    }
   ],
   "source": [
    "print(\"2S = m - 1, infinite spin chain\")\n",
    "print(\"m = \"+repr(m))\n",
    "print(\"Hamiltonian parameters:\")\n",
    "print(\"Jz = \"+repr(Jz))\n",
    "print(\"Jxy = \"+repr(Jxy))\n",
    "print(\"hx = \"+repr(hx))\n",
    "print(\"D = \"+repr(D))\n",
    "\n",
    "print(\"chi_max = \"+repr(chi_max))\n",
    "\n",
    "print(\"tau_max = \"+repr(tau_max))\n",
    "print(\"tau_min = \"+repr(tau_min))\n",
    "print(\"T_step = \"+repr(T_step))\n",
    "print(\"output_dyn_num = \"+repr(output_dyn_num))"
   ]
  },
  {
   "cell_type": "code",
   "execution_count": 4,
   "metadata": {},
   "outputs": [
    {
     "name": "stdout",
     "output_type": "stream",
     "text": [
      "##Dyn 0.0 -1.0 1.0 array([ 1., -1.])\n",
      "##Dyn 1.956898387873087 -1.3873538120758777 0.5497245746995827 array([ 0.54972457, -0.54972457])\n",
      "##Dyn 3.8257218398891855 -1.3965302645373625 0.31094972204003735 array([ 0.31094972, -0.31094972])\n",
      "##Dyn 5.610434381147543 -1.3988822968392607 0.164278001042109 array([ 0.164278, -0.164278])\n",
      "##Dyn 7.314821626228748 -1.3996004181461414 0.08553485461392935 array([ 0.08553485, -0.08553485])\n",
      "##Dyn 8.942498808990797 -1.3998908581345881 0.04527341063853045 array([ 0.04527341, -0.04527341])\n",
      "##Dyn 10.49691845096481 -1.4000624067944432 0.02459997774873303 array([ 0.02459998, -0.02459998])\n",
      "##Dyn 11.981377684616088 -1.400194105719971 0.013763210795876647 array([ 0.01376321, -0.01376321])\n",
      "##Dyn 13.399025247004122 -1.4003073511550577 0.007941865230584454 array([ 0.00794187, -0.00794187])\n",
      "##Dyn 14.752868158676053 -1.4004086519759522 0.004736176682727571 array([ 0.00473618, -0.00473618])\n",
      "##Dyn 16.045778101960416 -1.4005004592860977 0.002927769631866214 array([ 0.00292777, -0.00292777])\n",
      "##Dyn 17.280497512190376 -1.4005840287320692 0.0018837304444167568 array([ 0.00188373, -0.00188373])\n",
      "##Dyn 18.459645394776754 -1.4006602165255368 0.001267554444412113 array([ 0.00126755, -0.00126755])\n",
      "##Dyn 19.58572288046962 -1.400729714303906 0.0008962250891953493 array([ 0.00089623, -0.00089623])\n",
      "##Dyn 20.66111853059197 -1.400793124071786 0.000668000958252571 array([ 0.000668, -0.000668])\n",
      "##Dyn 21.688113403498498 -1.400850985221051 0.0005251208573546641 array([ 0.00052512, -0.00052512])\n",
      "##Dyn 22.668885893006266 -1.4009037863555798 0.00043412496066560304 array([ 0.00043412, -0.00043412])\n",
      "##Dyn 23.60551634905998 -1.4009519719283097 0.0003752533735383667 array([ 0.00037525, -0.00037525])\n",
      "##Dyn 24.499991490433136 -1.4009959468972517 0.0003366196189710254 array([ 0.00033662, -0.00033662])\n",
      "##Dyn 25.35420861882498 -1.4010360804829374 0.00031094633092085765 array([ 0.00031095, -0.00031095])\n",
      "##Dyn 26.169979643291715 -1.4010727094179956 0.0002937024130964879 array([ 0.0002937, -0.0002937])\n",
      "##Dyn 26.949034923548563 -1.4011061408444512 0.00028202101324028265 array([ 0.00028202, -0.00028202])\n",
      "##Dyn 27.693026940294693 -1.401136654930592 0.0002740602850859614 array([ 0.00027406, -0.00027406])\n",
      "##Dyn 28.40353380034638 -1.4011645072476193 0.0002686195493079769 array([ 0.00026862, -0.00026862])\n",
      "##Dyn 29.082062584013112 -1.4011899309332834 0.00026490518983623767 array([ 0.00026491, -0.00026491])\n",
      "##Dyn 29.730052541816985 -1.401213138663687 0.0002623857222739988 array([ 0.00026239, -0.00026239])\n",
      "##Dyn 30.34887814733603 -1.4012343244511207 0.0002607007717688325 array([ 0.0002607, -0.0002607])\n",
      "##Dyn 30.93985201264694 -1.4012536652836356 0.0002596031159150279 array([ 0.0002596, -0.0002596])\n",
      "##Dyn 31.50422767255129 -1.4012713226204419 0.0002589212912124332 array([ 0.00025892, -0.00025892])\n",
      "##Dyn 32.0432022434909 -1.4012874437558716 0.00025853515998304884 array([ 0.00025854, -0.00025854])\n",
      "##Dyn 32.55791896279232 -1.4013021630634876 0.0002583597503104383 array([ 0.00025836, -0.00025836])\n",
      "##Dyn 33.04946961362645 -1.4013156031308713 0.00025833444357543825 array([ 0.00025833, -0.00025833])\n",
      "##Dyn 33.51889684082704 -1.4013278757947116 0.0002584156583282348 array([ 0.00025842, -0.00025842])\n",
      "##Dyn 33.967196362480216 -1.401339083084944 0.00025857184672868085 array([ 0.00025857, -0.00025857])\n",
      "##Dyn 34.39531908197594 -1.4013493180859353 0.0002587800379326502 array([ 0.00025878, -0.00025878])\n",
      "##Dyn 34.80417310500171 -1.4013586657220016 0.0002590234264151697 array([ 0.00025902, -0.00025902])\n",
      "##Dyn 35.194625665756334 -1.4013672034739058 0.000259289673630921 array([ 0.00025929, -0.00025929])\n",
      "##Dyn 35.5675049664701 -1.4013750020324016 0.00025956970144210874 array([ 0.00025957, -0.00025957])\n",
      "##Dyn 35.92360193413262 -1.4013821258943553 0.00025985682729612585 array([ 0.00025986, -0.00025986])\n",
      "##Dyn 36.26367189815501 -1.401388633906485 0.0002601461398301862 array([ 0.00026015, -0.00026015])\n",
      "##Dyn 36.58843619252498 -1.4013945797613336 0.00026043404421173473 array([ 0.00026043, -0.00026043])\n",
      "##Dyn 36.89858368585276 -1.401400012449658 0.0002607179290725158 array([ 0.00026072, -0.00026072])\n",
      "##Dyn 37.19477224255396 -1.401404976673077 0.0002609959201732565 array([ 0.000261, -0.000261])\n",
      "##Dyn 37.47763011826798 -1.4014095132204614 0.00026126669809526125 array([ 0.00026127, -0.00026127])\n",
      "##Dyn 37.74775729247265 -1.4014136593112614 0.000261529361398346 array([ 0.00026153, -0.00026153])\n",
      "##Dyn 38.005726741121045 -1.4014174489086701 0.0002617833242010237 array([ 0.00026178, -0.00026178])\n",
      "##Dyn 38.25208565200026 -1.4014209130052784 0.0002620282387766776 array([ 0.00026203, -0.00026203])\n",
      "##Dyn 38.48735658539025 -1.4014240798836353 0.00026226393660915047 array([ 0.00026226, -0.00026226])\n",
      "##Dyn 38.71203858248403 -1.401426975353925 0.00026249038392694833 array([ 0.00026249, -0.00026249])\n",
      "##Dyn 38.92660822392108 -1.4014296229707663 0.0002627076474222687 array([ 0.00026271, -0.00026271])\n",
      "##Dyn 39.13152064067874 -1.401432044230973 0.00026291586792137465 array([ 0.00026292, -0.00026292])\n",
      "##Dyn 39.32721047946603 -1.401434258753941 0.0002631152405458774 array([ 0.00026312, -0.00026312])\n",
      "##Dyn 39.51409282466763 -1.4014362844462063 0.00026330599904597873 array([ 0.00026331, -0.00026331])\n",
      "##Dyn 39.69256407879347 -1.4014381376515443 0.0002634884039299088 array([ 0.00026349, -0.00026349])\n",
      "##Dyn 39.863002803301576 -1.4014398332878921 0.0002636627333371082 array([ 0.00026366, -0.00026366])\n",
      "##Dyn 40.02577052157777 -1.4014413849722538 0.00026382927607482217 array([ 0.00026383, -0.00026383])\n",
      "##Dyn 40.181212485775156 -1.4014428051346381 0.000263988326073721 array([ 0.00026399, -0.00026399])\n",
      "##Dyn 40.32965840914028 -1.401444105121997 0.0002641401783452911 array([ 0.00026414, -0.00026414])\n",
      "##Dyn 40.47142316537906 -1.401445295293037 0.00026428512593609863 array([ 0.00026429, -0.00026429])\n",
      "##Dyn 40.60680745654624 -1.40144638510472 0.00026442345749227536 array([ 0.00026442, -0.00026442])\n",
      "##Dyn 40.73609845087467 -1.4014473831911651 0.00026455545566679995 array([ 0.00026456, -0.00026456])\n",
      "##Dyn 40.85957039189766 -1.4014482974356315 0.00026468139568004337 array([ 0.00026468, -0.00026468])\n",
      "##Dyn 40.977485180156286 -1.4014491350361848 0.0002648015445556552 array([ 0.0002648, -0.0002648])\n",
      "##Dyn 41.09009292872556 -1.4014499025656089 0.00026491616047183246 array([ 0.00026492, -0.00026492])\n",
      "##Dyn 41.19763249373779 -1.4014506060260563 0.0002650254925153181 array([ 0.00026503, -0.00026503])\n",
      "##Dyn 41.30033198102844 -1.4014512508989139 0.0002651297803196031 array([ 0.00026513, -0.00026513])\n",
      "##Dyn 41.39840922997921 -1.401451842190287 0.0002652292541114347 array([ 0.00026523, -0.00026523])\n",
      "##Dyn 41.49207227558458 -1.4014523844725102 0.00026532413474601935 array([ 0.00026532, -0.00026532])\n",
      "##Dyn 41.58151978972189 -1.4014528819220033 0.00026541463369361755 array([ 0.00026541, -0.00026541])\n",
      "##Dyn 41.666941502561066 -1.4014533383538255 0.0002655009534935472 array([ 0.0002655, -0.0002655])\n",
      "##Dyn 41.74851860500772 -1.4014537572531927 0.0002655832877485422 array([ 0.00026558, -0.00026558])\n",
      "##Dyn 41.82642413303339 -1.4014541418042377 0.00026566182142311084 array([ 0.00026566, -0.00026566])\n",
      "##Dyn 41.90082333470801 -1.401454494916251 0.00026573673130685316 array([ 0.00026574, -0.00026574])\n",
      "##Dyn 41.97187402071317 -1.4014548192476224 0.00026580818598057835 array([ 0.00026581, -0.00026581])\n",
      "##Dyn 42.03972689907985 -1.401455117227692 0.00026587634641450435 array([ 0.00026588, -0.00026588])\n",
      "##Dyn 42.104525894860224 -1.4014553910766805 0.0002659413660978039 array([ 0.00026594, -0.00026594])\n",
      "##Dyn 42.16640845541212 -1.4014556428238838 0.0002660033914676338 array([ 0.000266, -0.000266])\n",
      "##Dyn 42.2255058419432 -1.401455874324274 0.00026606256203078564 array([ 0.00026606, -0.00026606])\n",
      "##Dyn 42.281943407933646 -1.401456087273643 0.0002661190108744639 array([ 0.00026612, -0.00026612])\n",
      "##Dyn 42.3358408650276 -1.4014562832224313 0.00026617286479989165 array([ 0.00026617, -0.00026617])\n",
      "##Dyn 42.38731253695773 -1.4014564635883402 0.0002662242446213123 array([ 0.00026622, -0.00026622])\n",
      "##Dyn 42.43646760204115 -1.4014566296678486 0.0002662732654682012 array([ 0.00026627, -0.00026627])\n",
      "##Dyn 42.48341032476122 -1.401456782646717 0.00026632003708411574 array([ 0.00026632, -0.00026632])\n",
      "##Dyn 42.528240276926525 -1.4014569236095828 0.0002663646640786086 array([ 0.00026636, -0.00026636])\n"
     ]
    },
    {
     "name": "stdout",
     "output_type": "stream",
     "text": [
      "##Dyn 42.57105254887609 -1.4014570535487088 0.000266407246012743 array([ 0.00026641, -0.00026641])\n",
      "##Dyn 42.61193795117866 -1.4014571733719798 0.0002664478778246142 array([ 0.00026645, -0.00026645])\n",
      "##Dyn 42.650983207254136 -1.4014572839101866 0.0002664866499414479 array([ 0.00026649, -0.00026649])\n",
      "##Dyn 42.688271137325515 -1.4014573859236912 0.00026652364858267006 array([ 0.00026652, -0.00026652])\n",
      "##Dyn 42.723880834091766 -1.4014574801084991 0.0002665589558783506 array([ 0.00026656, -0.00026656])\n",
      "##Dyn 42.757887830494 -1.4014575671018088 0.00026659265005691326 array([ 0.00026659, -0.00026659])\n",
      "##Dyn 42.79036425993101 -1.4014576474870777 0.0002666248056205396 array([ 0.00026662, -0.00026662])\n",
      "##Dyn 42.82137900926379 -1.401457721798644 0.00026665549365668516 array([ 0.00026666, -0.00026666])\n",
      "##Dyn 42.85099786493391 -1.4014577905259507 0.0002666847818830829 array([ 0.00026668, -0.00026668])\n",
      "##Dyn 42.879283652505315 -1.4014578541173977 0.0002667127348599372 array([ 0.00026671, -0.00026671])\n",
      "##Dyn 42.906296369925776 -1.4014579129838651 0.00026673941409534547 array([ 0.00026674, -0.00026674])\n",
      "##Dyn 42.932093314790606 -1.401457967501927 0.00026676487825770615 array([ 0.00026676, -0.00026676])\n",
      "##Dyn 42.956729205878524 -1.4014580180167853 0.00026678918315508 array([ 0.00026679, -0.00026679])\n",
      "##Dyn 42.980256299217515 -1.4014580648449497 0.0002668123821285936 array([ 0.00026681, -0.00026681])\n",
      "##Dyn 43.00272449892691 -1.4014581082766933 0.00026683452594993473 array([ 0.00026683, -0.00026683])\n",
      "##Dyn 43.024181463070605 -1.4014581485782798 0.0002668556630381986 array([ 0.00026686, -0.00026686])\n"
     ]
    }
   ],
   "source": [
    "##iTEBD simulation\n",
    "Tn, lam, T_list,E_list,mz_list = iTEBD.iTEBD_Simulation(m,Jz,Jxy,hx,D,chi_max,tau_max,tau_min,T_step,output_dyn=True,output_dyn_num=output_dyn_num)"
   ]
  },
  {
   "cell_type": "code",
   "execution_count": 5,
   "metadata": {},
   "outputs": [
    {
     "name": "stdout",
     "output_type": "stream",
     "text": [
      "iTEBD energy per bond = -1.4014581859940116\n"
     ]
    }
   ],
   "source": [
    "## Calculate Energy\n",
    "Env_left,Env_right = iTEBD.Calc_Environment_infinite(Tn,lam,canonical=False)\n",
    "E_mps = iTEBD.Calc_Energy_infinite(Env_left,Env_right,Tn,lam,Jz,Jxy,hx,D)\n",
    "\n",
    "print(\"iTEBD energy per bond = \" + repr(E_mps))"
   ]
  },
  {
   "cell_type": "code",
   "execution_count": 6,
   "metadata": {},
   "outputs": [
    {
     "data": {
      "image/png": "[encoded data removed]",
      "text/plain": [
       "<Figure size 432x288 with 1 Axes>"
      ]
     },
     "metadata": {
      "needs_background": "light"
     },
     "output_type": "display_data"
    }
   ],
   "source": [
    "## plot energy dynamics\n",
    "pyplot.title(\"iTEBD Energy dynamics\")\n",
    "pyplot.plot(T_list[1:],E_list[1:],\"o\")\n",
    "pyplot.xlabel(\"T\")\n",
    "pyplot.ylabel(\"E(T)\")\n",
    "pyplot.show()\n"
   ]
  },
  {
   "cell_type": "code",
   "execution_count": null,
   "metadata": {},
   "outputs": [],
   "source": []
  }
 ],
 "metadata": {
  "kernelspec": {
   "display_name": "Python 3",
   "language": "python",
   "name": "python3"
  },
  "language_info": {
   "codemirror_mode": {
    "name": "ipython",
    "version": 3
   },
   "file_extension": ".py",
   "mimetype": "text/x-python",
   "name": "python",
   "nbconvert_exporter": "python",
   "pygments_lexer": "ipython3",
   "version": "3.7.7"
  }
 },
 "nbformat": 4,
 "nbformat_minor": 2
}
