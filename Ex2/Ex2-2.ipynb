{
 "cells": [
  {
   "cell_type": "code",
   "execution_count": 1,
   "metadata": {},
   "outputs": [],
   "source": [
    "# Sample code for MPS of spin models\n",
    "# 2017 Augst Tsuyoshi Okubo\n",
    "# 2018 Feb. Bug fixed \n",
    "# 2019 Jan. Modified output\n",
    "# 2020 Jan. Modified output\n",
    "# 2020 Oct. Modified by TO\n",
    "# 2020 Dec. Add appendix"
   ]
  },
  {
   "cell_type": "markdown",
   "metadata": {},
   "source": [
    "In this code, we perform a matrix product (a tensor train) decomposition for a wave function. \n",
    "The input parameters are\n",
    "* $N$ : number of spins \n",
    "* $m$ : spin size $m=2S +1$ (Total vector dimension is $m^N$.)\n",
    "* chi_max : maximum bond dimension of MPS\n",
    "* Jz : $J_z$ in the following Hamiltonian\n",
    "* Jxy : $J_{xy}$ in the following Hamiltonian\n",
    "* hx : $h_x$ in the following Hamiltonian\n",
    "\n",
    "We consider spin model defined on the open boundary 1d chain those Hamiltonian is given by\n",
    "$$ \\mathcal{H} = \\sum_{i=1}^{N-1} J_z S_i^z S_{i+1}^z + \\sum_{i=1}^{N-1} J_{xy} (S_i^x S_{i+1}^x + S_i^yS_{i+1}^y)) - h_x \\sum_{i=1}^N S_i^x$$.\n",
    "\n",
    "\n",
    "This Hamiltonian can represent several situations. For example, when we set parameters,\n",
    "* $J_z = -1$, $J_{xy} = 0$, $h_x \\neq 0$, and $m = 2$ \n",
    "\n",
    "It represents the transverse field Ising chain (with the open boundary condition).\n",
    "If you set\n",
    "* $J_z = J_{xy} = 1$, $h_x = 0$ \n",
    "\n",
    "It represents the $S=(m-1)/2$ Heisenberg model (with the open boundary condition).\n",
    "\n",
    "After setting the Hamiltoniam parameters, first, we calculate the lowest eigenvalue and eigenvector (the ground state) of $\\mathcal{H}$. From the eigenvector, we construct the exact matrix product state (tensor train decomposition). Then we truncate the each bond dimension to \"chi_max\" and make an approximated vector.\n",
    "Finally, the code calculate the distance between the exact vector and the approximated vector. \n",
    "\n",
    "In the appedix, we calculate chi_max dependece of the distance."
   ]
  },
  {
   "cell_type": "code",
   "execution_count": 2,
   "metadata": {},
   "outputs": [],
   "source": [
    "import numpy as np\n",
    "import scipy.linalg as linalg\n",
    "import ED\n",
    "import MPS\n",
    "import argparse\n",
    "import copy\n",
    "%matplotlib inline\n",
    "import matplotlib.pyplot as plt"
   ]
  },
  {
   "cell_type": "code",
   "execution_count": 3,
   "metadata": {},
   "outputs": [],
   "source": [
    "## input parameters\n",
    "N = 16 ## system size N\n",
    "m = 2  ## Spin size m=2S +1 (total vector dimension is m^N)\n",
    "Jz = -1.0 ## SzSz interaction\n",
    "Jxy = 0.0 ## SxSx and SySy interactions\n",
    "hx = 0.4 ## extarnal transverse magnetic field\n",
    "chi_max = 2 ## maximum bond dimension at truncation"
   ]
  },
  {
   "cell_type": "code",
   "execution_count": 4,
   "metadata": {},
   "outputs": [
    {
     "name": "stdout",
     "output_type": "stream",
     "text": [
      "Model parameters: Jz, Jxy, hx = -1.0, 0.0, 0.4\n",
      "Parameters: N, m, chi_max = 16, 2, 2\n",
      "Ground state energy per bond = -0.3008312739132694\n"
     ]
    }
   ],
   "source": [
    "## Main calculation\n",
    "\n",
    "print(\"Model parameters: Jz, Jxy, hx = \"+repr(Jz)+\", \"+repr(Jxy)+\", \"+repr(hx))\n",
    "print(\"Parameters: N, m, chi_max = \"+repr(N)+\", \"+repr(m)+ \", \"+repr(chi_max))\n",
    "\n",
    "D=0.0\n",
    "eig_val,eig_vec = ED.Calc_GS(m,Jz,Jxy,hx,D,N,k=1)\n",
    "\n",
    "\n",
    "print(\"Ground state energy per bond = \"+repr(eig_val[0]/(N-1)))\n"
   ]
  },
  {
   "cell_type": "code",
   "execution_count": 5,
   "metadata": {},
   "outputs": [],
   "source": [
    "## Make exact MPS (from \"left\")\n",
    "Tn = []\n",
    "lam = [np.ones((1,))]\n",
    "lam_inv = 1.0/lam[0]\n",
    "R_mat = eig_vec[:,0].reshape(m,m**(N-1))\n",
    "\n",
    "chi_l=1\n",
    "for i in range(N-1):\n",
    "    U,s,VT = linalg.svd(R_mat,full_matrices=False)\n",
    "    chi_r = s.size\n",
    "\n",
    "    Tn.append(np.tensordot(np.diag(lam_inv),U.reshape(chi_l,m,chi_r),(1,0)).transpose(1,0,2))\n",
    "    lam.append(s)\n",
    "    lam_inv = 1.0/s\n",
    "    R_mat = np.dot(np.diag(s),VT).reshape(chi_r*m,m**(N-i-2))\n",
    "    chi_l = chi_r\n",
    "Tn.append(VT.reshape(m,m,1).transpose(1,0,2))\n",
    "lam.append(np.ones((1,)))\n"
   ]
  },
  {
   "cell_type": "code",
   "execution_count": 6,
   "metadata": {},
   "outputs": [
    {
     "name": "stdout",
     "output_type": "stream",
     "text": [
      "Energy of Exact MPS = -0.3008312739132692\n"
     ]
    }
   ],
   "source": [
    "## Calculate Energy\n",
    "Env_left=[]\n",
    "Env_right=[]\n",
    "for i in range(N):\n",
    "    Env_left.append(np.identity((lam[i].shape[0])))\n",
    "    Env_right.append(np.dot(np.dot(np.diag(lam[i+1]),np.identity((lam[i+1].shape[0]))),np.diag(lam[i+1])))\n",
    "\n",
    "Tn_ex = copy.deepcopy(Tn)\n",
    "lam_ex = copy.deepcopy(lam)\n",
    "E_exact = MPS.Calc_Energy(Env_left,Env_right,Tn_ex,lam_ex,Jz,Jxy,hx,D)\n",
    "print(\"Energy of Exact MPS = \"+repr(E_exact))\n"
   ]
  },
  {
   "cell_type": "code",
   "execution_count": 7,
   "metadata": {},
   "outputs": [
    {
     "data": {
      "image/png": "[encoded data removed]",
      "text/plain": [
       "<Figure size 432x288 with 1 Axes>"
      ]
     },
     "metadata": {
      "needs_background": "light"
     },
     "output_type": "display_data"
    }
   ],
   "source": [
    "## plot Schmidt coefficient at N/2\n",
    "## Red line indicates the position of chi_max\n",
    "\n",
    "plt.title(\"Schmidt coefficients for \"+repr(N)+\" sites spin chain\")\n",
    "plt.plot(np.arange(len(lam_ex[N//2]))+1,lam_ex[N//2]**2,\"o\",label=\"Schmidt coefficients\")\n",
    "plt.axvline([chi_max],0,1,  c=\"red\", linestyle='dashed', label=\"chi_max\") ## position of chi_max\n",
    "plt.xlabel(\"index\")\n",
    "plt.xscale(\"log\")\n",
    "plt.ylabel(\"Schmidt coefficients\")\n",
    "plt.yscale(\"log\")\n",
    "plt.legend()\n",
    "plt.show()\n",
    "\n",
    "\n"
   ]
  },
  {
   "cell_type": "code",
   "execution_count": 8,
   "metadata": {},
   "outputs": [],
   "source": [
    "## Truncation \n",
    "#Tn_ex=Tn\n",
    "#lam_ex=lam\n",
    "for i in range(N-1):\n",
    "    chi = min(chi_max,lam[i+1].shape[0])\n",
    "    lam[i+1]=lam[i+1][:chi]\n",
    "    Tn[i]=Tn[i][:,:,:chi]\n",
    "    Tn[i+1]=Tn[i+1][:,:chi,:]"
   ]
  },
  {
   "cell_type": "code",
   "execution_count": 9,
   "metadata": {},
   "outputs": [
    {
     "name": "stdout",
     "output_type": "stream",
     "text": [
      "Truncation: chi_max = 2\n",
      "Energy of MPS with truncation = -0.2995131255929266\n",
      "Energy difference: E_truncated - E_exact =0.0013181483203426048\n"
     ]
    }
   ],
   "source": [
    "## Calculate Energy for truncated MPS\n",
    "Env_left=[]\n",
    "Env_right=[]\n",
    "for i in range(N):\n",
    "    Env_left.append(np.identity((lam[i].shape[0])))\n",
    "    Env_right.append(np.dot(np.dot(np.diag(lam[i+1]),np.identity((lam[i+1].shape[0]))),np.diag(lam[i+1])))\n",
    "\n",
    "print(\"Truncation: chi_max = \"+repr(chi_max))\n",
    "E_truncated = MPS.Calc_Energy(Env_left,Env_right,Tn,lam,Jz,Jxy,hx,D)\n",
    "print(\"Energy of MPS with truncation = \"+repr(E_truncated))\n",
    "print(\"Energy difference: E_truncated - E_exact =\" + repr(E_truncated - E_exact))"
   ]
  },
  {
   "cell_type": "code",
   "execution_count": 10,
   "metadata": {},
   "outputs": [
    {
     "name": "stdout",
     "output_type": "stream",
     "text": [
      "Distance between exact and truncated MPS = 0.14242015267790595\n"
     ]
    }
   ],
   "source": [
    "## Distance between Exact MPS and truncated MPS\n",
    "\n",
    "vec_ex = MPS.remake_vec(Tn_ex,lam_ex)\n",
    "vec_ap = MPS.remake_vec(Tn,lam)\n",
    "print(\"Distance between exact and truncated MPS = \"+repr(linalg.norm(vec_ex - vec_ap)))\n"
   ]
  },
  {
   "cell_type": "markdown",
   "metadata": {},
   "source": [
    "## Appendix: bond dimension dependence \n",
    "\n",
    "In this appendix, we calculate the distance between the original and approximated vector as a function of chi_max. \n",
    "We also calculate approximated energy as a function of chi_max.\n",
    "\n",
    "We use the same original vector as the main part.   \n",
    "You can set maxmum and minimum value of chi_max for the calculation.\n"
   ]
  },
  {
   "cell_type": "code",
   "execution_count": 11,
   "metadata": {},
   "outputs": [],
   "source": [
    "min_chi_max = 1\n",
    "max_chi_max = 20 ## maximum bond dimension of the exact MPS is m**(N/2)\n",
    "d_chi_max = 1"
   ]
  },
  {
   "cell_type": "code",
   "execution_count": 12,
   "metadata": {},
   "outputs": [],
   "source": [
    "chi_max_list = np.arange(min_chi_max, max_chi_max+1, d_chi_max, dtype=int)\n",
    "chi_list = np.ones((N+1,),dtype=int)\n",
    "vec_ex = MPS.remake_vec(Tn_ex,lam_ex)\n",
    "\n",
    "distances=[]\n",
    "energies=[]\n",
    "for chi_max in chi_max_list:\n",
    "    for i in range(N-1):\n",
    "        chi = min(chi_max,lam_ex[i+1].shape[0])\n",
    "        chi_list[i+1] = chi\n",
    "    lam = [np.ones((1,))]\n",
    "    Tn = []\n",
    "    for i in range(N):\n",
    "        lam.append(lam_ex[i+1][:chi_list[i+1]])\n",
    "        Tn.append(Tn_ex[i][:,:chi_list[i],:chi_list[i+1]])\n",
    "    vec_ap = MPS.remake_vec(Tn,lam)\n",
    "    distances.append(linalg.norm(vec_ex - vec_ap))\n",
    "    \n",
    "    ## Calculate Energy for truncated MPS\n",
    "    Env_left=[]\n",
    "    Env_right=[]\n",
    "    for i in range(N):\n",
    "        Env_left.append(np.identity((lam[i].shape[0])))\n",
    "        Env_right.append(np.dot(np.dot(np.diag(lam[i+1]),np.identity((lam[i+1].shape[0]))),np.diag(lam[i+1])))\n",
    "        \n",
    "    energies.append(MPS.Calc_Energy(Env_left,Env_right,Tn,lam,Jz,Jxy,hx,D))"
   ]
  },
  {
   "cell_type": "code",
   "execution_count": 16,
   "metadata": {},
   "outputs": [
    {
     "data": {
      "image/png": "[encoded data removed]",
      "text/plain": [
       "<Figure size 432x288 with 1 Axes>"
      ]
     },
     "metadata": {
      "needs_background": "light"
     },
     "output_type": "display_data"
    },
    {
     "data": {
      "image/png": "[encoded data removed]",
      "text/plain": [
       "<Figure size 432x288 with 1 Axes>"
      ]
     },
     "metadata": {
      "needs_background": "light"
     },
     "output_type": "display_data"
    }
   ],
   "source": [
    "## plot distances\n",
    "\n",
    "plt.title(\"Distances for \"+repr(N)+\" sites spin chain\")\n",
    "plt.plot(chi_max_list,distances,\"o\")\n",
    "plt.xlabel(\"chi_max\")\n",
    "plt.ylabel(\"Distance\")\n",
    "plt.yscale(\"log\")\n",
    "plt.show()\n",
    "\n",
    "plt.title(\"Energy for \"+repr(N)+\" sites spin chain\")\n",
    "plt.plot(chi_max_list,(energies-E_exact)/np.abs(E_exact),\"o\")\n",
    "plt.xlabel(\"chi_max\")\n",
    "plt.ylabel(\"(Energy - $E_{ex}$)/$|E_{ex}|$\")\n",
    "plt.yscale(\"log\")\n",
    "plt.show()\n",
    "\n"
   ]
  },
  {
   "cell_type": "code",
   "execution_count": null,
   "metadata": {},
   "outputs": [],
   "source": []
  }
 ],
 "metadata": {
  "kernelspec": {
   "display_name": "Python 3",
   "language": "python",
   "name": "python3"
  },
  "language_info": {
   "codemirror_mode": {
    "name": "ipython",
    "version": 3
   },
   "file_extension": ".py",
   "mimetype": "text/x-python",
   "name": "python",
   "nbconvert_exporter": "python",
   "pygments_lexer": "ipython3",
   "version": "3.7.7"
  }
 },
 "nbformat": 4,
 "nbformat_minor": 4
}
